{
 "cells": [
  {
   "cell_type": "markdown",
   "id": "b59208f4",
   "metadata": {},
   "source": [
    "#### Andrew Taylor\n",
    "#### atayl136\n",
    "#### EN705.601 Applied Machine Learning\n",
    "## Homework 11"
   ]
  },
  {
   "cell_type": "markdown",
   "id": "855190ec",
   "metadata": {},
   "source": [
    "### Question 1: Apriori Analysis of Alice in Wonderland\n",
    "\n",
    "The snippet provided uses the NLTK library to process the text and filter out stopwords and non-alphabetic terms. Let's build upon this to perform Apriori analysis.  \n",
    "\n",
    "Firstly, we need to understand the Apriori algorithm's goal: to find frequent itemsets in a dataset and then deduce association rules from these itemsets. In the context of text analysis, an \"itemset\" could be a set of words that frequently occur together in sentences.  \n",
    "\n",
    "Here's a step-by-step approach:  \n",
    "\n",
    "Preprocess the Text: Your code snippet already handles this by loading the sentences from the book and filtering out stopwords and non-alphabetic terms.  \n",
    "\n",
    "Transform Sentences into Itemsets: We will convert each sentence into an itemset of words. This step seems to be already covered in your code.  \n",
    "\n",
    "Apply the Apriori Algorithm: We will need a library like mlxtend to apply the Apriori algorithm. This algorithm will help us find frequent word sets in the text.  \n",
    "\n",
    "Generate Association Rules: From the frequent itemsets, we can generate association rules. These rules will tell us which words (or sets of words) are likely to appear together.  \n",
    "\n",
    "Analyze the Results: We will interpret the rules to understand the associations between different words in the text.  "
   ]
  },
  {
   "cell_type": "code",
   "execution_count": 3,
   "id": "33ed918c",
   "metadata": {},
   "outputs": [
    {
     "name": "stderr",
     "output_type": "stream",
     "text": [
      "[nltk_data] Downloading package gutenberg to\n",
      "[nltk_data]     C:\\Users\\Putna\\AppData\\Roaming\\nltk_data...\n",
      "[nltk_data]   Package gutenberg is already up-to-date!\n",
      "[nltk_data] Downloading package stopwords to\n",
      "[nltk_data]     C:\\Users\\Putna\\AppData\\Roaming\\nltk_data...\n",
      "[nltk_data]   Package stopwords is already up-to-date!\n",
      "[nltk_data] Downloading package punkt to\n",
      "[nltk_data]     C:\\Users\\Putna\\AppData\\Roaming\\nltk_data...\n",
      "[nltk_data]   Package punkt is already up-to-date!\n"
     ]
    },
    {
     "name": "stdout",
     "output_type": "stream",
     "text": [
      "       antecedents consequents  antecedent support  consequent support  \\\n",
      "0         (looked)     (alice)            0.025250            0.228420   \n",
      "1           (much)     (alice)            0.029360            0.228420   \n",
      "2          (quite)     (alice)            0.029360            0.228420   \n",
      "3        (thought)     (alice)            0.043453            0.228420   \n",
      "4            (cat)      (said)            0.021139            0.267176   \n",
      "5    (caterpillar)      (said)            0.015854            0.267176   \n",
      "6           (hare)     (march)            0.017616            0.018203   \n",
      "7          (march)      (hare)            0.018203            0.017616   \n",
      "8         (hatter)      (said)            0.032883            0.267176   \n",
      "9           (king)      (said)            0.035232            0.267176   \n",
      "10          (mock)      (said)            0.032883            0.267176   \n",
      "11        (turtle)      (mock)            0.034058            0.032883   \n",
      "12          (mock)    (turtle)            0.032883            0.034058   \n",
      "13        (rabbit)     (white)            0.027598            0.017029   \n",
      "14         (white)    (rabbit)            0.017029            0.027598   \n",
      "15          (tone)      (said)            0.023488            0.267176   \n",
      "16        (turtle)      (said)            0.034058            0.267176   \n",
      "17  (turtle, said)      (mock)            0.018790            0.032883   \n",
      "18  (turtle, mock)      (said)            0.032883            0.267176   \n",
      "19    (said, mock)    (turtle)            0.018790            0.034058   \n",
      "\n",
      "     support  confidence       lift  leverage  conviction  zhangs_metric  \n",
      "0   0.013506    0.534884   2.341663  0.007738    1.658896       0.587795  \n",
      "1   0.016442    0.560000   2.451620  0.009735    1.753590       0.610016  \n",
      "2   0.014680    0.500000   2.188946  0.007974    1.543159       0.559589  \n",
      "3   0.034058    0.783784   3.431321  0.024132    3.568555       0.740755  \n",
      "4   0.012918    0.611111   2.287302  0.007271    1.884406       0.574958  \n",
      "5   0.011744    0.740741   2.772487  0.007508    2.826609       0.649612  \n",
      "6   0.017616    1.000000  54.935484  0.017295         inf       0.999402  \n",
      "7   0.017616    0.967742  54.935484  0.017295   30.453905       1.000000  \n",
      "8   0.017029    0.517857   1.938265  0.008243    1.519932       0.500534  \n",
      "9   0.025250    0.716667   2.682381  0.015836    2.586439       0.650101  \n",
      "10  0.018790    0.571429   2.138776  0.010005    1.709924       0.550546  \n",
      "11  0.032883    0.965517  29.362069  0.031763   28.046389       1.000000  \n",
      "12  0.032883    1.000000  29.362069  0.031763         inf       0.998786  \n",
      "13  0.014093    0.510638  29.986794  0.013623    2.008680       0.994087  \n",
      "14  0.014093    0.827586  29.986794  0.013623    5.639930       0.983398  \n",
      "15  0.011744    0.500000   1.871429  0.005469    1.465649       0.476849  \n",
      "16  0.018790    0.551724   2.065025  0.009691    1.634762       0.533929  \n",
      "17  0.018790    1.000000  30.410714  0.018172         inf       0.985637  \n",
      "18  0.018790    0.571429   2.138776  0.010005    1.709924       0.550546  \n",
      "19  0.018790    1.000000  29.362069  0.018150         inf       0.984440  \n"
     ]
    }
   ],
   "source": [
    "# Question 1: Apriori analysis of Alice in Wonderland\n",
    "\n",
    "import pandas as pd\n",
    "import nltk\n",
    "nltk.download('gutenberg')\n",
    "nltk.download('stopwords')\n",
    "nltk.download('punkt')\n",
    "import re\n",
    "from nltk.corpus import gutenberg, stopwords\n",
    "from mlxtend.preprocessing import TransactionEncoder\n",
    "from mlxtend.frequent_patterns import apriori, association_rules\n",
    "\n",
    "# Step 1: Preprocess the Text\n",
    "stop_words = stopwords.words('english')\n",
    "sentences = gutenberg.sents('carroll-alice.txt')\n",
    "terms_sentences = [[w.lower() for w in terms if w.lower() not in stop_words and re.search(r'^[a-zA-Z]{2,}$', w)]\n",
    "                   for terms in sentences]\n",
    "\n",
    "# Step 2: Transform Sentences into Itemsets\n",
    "te = TransactionEncoder()\n",
    "te_ary = te.fit(terms_sentences).transform(terms_sentences)\n",
    "df = pd.DataFrame(te_ary, columns=te.columns_)\n",
    "\n",
    "# Step 3: Apply the Apriori Algorithm\n",
    "frequent_itemsets = apriori(df, min_support=0.01, use_colnames=True)\n",
    "\n",
    "# Step 4: Generate Association Rules\n",
    "rules = association_rules(frequent_itemsets, metric=\"confidence\", min_threshold=0.5)\n",
    "\n",
    "# Step 5: Analyze the Results\n",
    "# Displaying top 20 rules\n",
    "print(rules.head(20))\n"
   ]
  },
  {
   "cell_type": "markdown",
   "id": "cf49fa16",
   "metadata": {},
   "source": [
    "### Analysis of Results  \n",
    "\n",
    "Confidence and Lift: The 'confidence' and 'lift' columns are key indicators. A high confidence value means that when the antecedent occurs, the consequent is very likely to occur as well. The lift measures how much more often the antecedent and consequent occur together than expected if they were statistically independent. A lift value greater than 1 indicates a positive association.  \n",
    "\n",
    "Notable Associations:  \n",
    "\n",
    "(\"looked\", \"alice\"), (\"much\", \"alice\"), and (\"quite\", \"alice\") have high confidence and lift values, indicating these words frequently occur together.  \n",
    "(\"hare\", \"march\") and its converse (\"march\", \"hare\") show a perfect confidence of 1 and an extremely high lift, indicating a very strong association, likely due to the characters \"March Hare\" in the story.  \n",
    "(\"turtle\", \"mock\") and its converse also show a very strong association with high confidence and lift, likely referring to the \"Mock Turtle\" character.  \n",
    "Leverage and Conviction: These are additional measures of the strength of an association. Leverage measures the difference in frequency of occurrence of the itemset compared to what would be expected if they were independent. Conviction can be seen as a measure of the implication's strength.  \n",
    "\n",
    "Filtering for Top Associations  \n",
    "To filter for top associations between one word and two words, we can apply conditions on the antecedents and consequents in the dataset. For example, let's find rules where the antecedent is a single word and the consequent is two words (or vice versa):"
   ]
  },
  {
   "cell_type": "code",
   "execution_count": 4,
   "id": "d52839bc",
   "metadata": {},
   "outputs": [
    {
     "name": "stdout",
     "output_type": "stream",
     "text": [
      "       antecedents     consequents  antecedent support  consequent support  \\\n",
      "20        (turtle)    (said, mock)            0.034058            0.018790   \n",
      "21          (mock)  (turtle, said)            0.032883            0.018790   \n",
      "17  (turtle, said)          (mock)            0.018790            0.032883   \n",
      "18  (turtle, mock)          (said)            0.032883            0.267176   \n",
      "19    (said, mock)        (turtle)            0.018790            0.034058   \n",
      "\n",
      "    support  confidence       lift  leverage  conviction  zhangs_metric  \n",
      "20  0.01879    0.551724  29.362069  0.018150    2.188852       1.000000  \n",
      "21  0.01879    0.571429  30.410714  0.018172    2.289489       1.000000  \n",
      "17  0.01879    1.000000  30.410714  0.018172         inf       0.985637  \n",
      "18  0.01879    0.571429   2.138776  0.010005    1.709924       0.550546  \n",
      "19  0.01879    1.000000  29.362069  0.018150         inf       0.984440  \n"
     ]
    }
   ],
   "source": [
    "# Filtering for associations where antecedent is one word and consequent is two words\n",
    "one_to_two = rules[rules['antecedents'].apply(lambda x: len(x) == 1) & rules['consequents'].apply(lambda x: len(x) == 2)]\n",
    "\n",
    "# Filtering for associations where antecedent is two words and consequent is one word\n",
    "two_to_one = rules[rules['antecedents'].apply(lambda x: len(x) == 2) & rules['consequents'].apply(lambda x: len(x) == 1)]\n",
    "\n",
    "# Combine both filters to get the desired results\n",
    "filtered_rules = pd.concat([one_to_two, two_to_one])\n",
    "\n",
    "# Display the filtered results\n",
    "print(filtered_rules)\n"
   ]
  },
  {
   "cell_type": "markdown",
   "id": "b3ef8db7",
   "metadata": {},
   "source": [
    "As hinted in the assignment instructions, Mock Turtle and White Rabbit were some of our stronger associations. If we wanted to delve deeper we could focus on the top 50 rules to get the most color out of Carroll's style. This was a very interesting module and I wonder if it could be applied to the stock market, by dividing patterns and results over a specified time period. Transactions would be sequences of ticks or returns, and high confidence/lift rules would reveal winning trades."
   ]
  },
  {
   "cell_type": "markdown",
   "id": "b1addc3e",
   "metadata": {},
   "source": [
    "### Question 2: 2-Layer Deep NN\n",
    "\n",
    "For this question let's get the MNIST data set loaded first, and get a single layer MLP working, and then create a 2-layer NN and see the performance difference."
   ]
  },
  {
   "cell_type": "code",
   "execution_count": 6,
   "id": "75c0a551",
   "metadata": {},
   "outputs": [
    {
     "name": "stdout",
     "output_type": "stream",
     "text": [
      "Rows= 60000, columns= 784\n",
      "Rows= 10000, columns= 784\n"
     ]
    }
   ],
   "source": [
    "# Question 2: Start with the data set\n",
    "\n",
    "def load_mnist(path, kind='train'):\n",
    "    from numpy import fromfile, uint8\n",
    "    import os\n",
    "    import struct\n",
    "    \n",
    "    labels_path = os.path.join(path, '%s-labels-idx1-ubyte' % kind)\n",
    "    images_path = os.path.join(path, '%s-images-idx3-ubyte' % kind)\n",
    "    with open(labels_path, 'rb') as lbpath:\n",
    "        magic, n = struct.unpack('>II', lbpath.read(8))\n",
    "        labels = fromfile(lbpath, dtype=uint8)\n",
    "        with open(images_path, 'rb') as imgpath:\n",
    "            magic, num, rows, cols = struct.unpack(\">IIII\",imgpath.read(16))\n",
    "            images = fromfile(imgpath, dtype=uint8).reshape(len(labels), 784)\n",
    "            images = ((images / 255.) - .5) * 2\n",
    "    return images, labels\n",
    "\n",
    "X_train_mnist, y_train_mnist = load_mnist('./EP_datasets/mnist/', kind='train')\n",
    "print(f'Rows= {X_train_mnist.shape[0]}, columns= {X_train_mnist.shape[1]}')\n",
    "\n",
    "X_test_mnist, y_test_mnist = load_mnist('./EP_datasets/mnist/', kind='t10k')\n",
    "print(f'Rows= {X_test_mnist.shape[0]}, columns= {X_test_mnist.shape[1]}')"
   ]
  },
  {
   "cell_type": "code",
   "execution_count": 9,
   "id": "0f7482d7",
   "metadata": {},
   "outputs": [
    {
     "data": {
      "image/png": "[encoded data removed]",
      "text/plain": [
       "<Figure size 460.8x345.6 with 10 Axes>"
      ]
     },
     "metadata": {},
     "output_type": "display_data"
    }
   ],
   "source": [
    "%matplotlib inline\n",
    "import matplotlib.pyplot as plt\n",
    "import numpy as np\n",
    "from numpy.random import ranf\n",
    "from sklearn.svm import SVC\n",
    "from sklearn.neural_network import MLPClassifier\n",
    "\n",
    "_, ax = plt.subplots(nrows=2, ncols=5, sharex='all', sharey='all', dpi=72)\n",
    "ax = ax.flatten()\n",
    "for img_i in range(10):\n",
    "    img = X_train_mnist[y_train_mnist == img_i][0].reshape(28, 28)\n",
    "    ax[img_i].imshow(img, cmap='Greys')\n",
    "    ax[0].set_xticks([])\n",
    "    ax[0].set_yticks([])\n",
    "    plt.tight_layout()\n",
    "plt.show()"
   ]
  },
  {
   "cell_type": "code",
   "execution_count": 10,
   "id": "5c5f3c72",
   "metadata": {},
   "outputs": [
    {
     "data": {
      "image/png": "[encoded data removed]",
      "text/plain": [
       "<Figure size 460.8x345.6 with 25 Axes>"
      ]
     },
     "metadata": {},
     "output_type": "display_data"
    }
   ],
   "source": [
    "fig, ax = plt.subplots(nrows=5, ncols=5, sharex='all', sharey='all', dpi=72)\n",
    "ax = ax.flatten()\n",
    "for img_i in range(25):\n",
    "    img = X_train_mnist[y_train_mnist == 3][img_i].reshape(28, 28)\n",
    "    ax[img_i].imshow(img, cmap='Greys')\n",
    "    ax[0].set_xticks([])\n",
    "    ax[0].set_yticks([])\n",
    "    plt.tight_layout()\n",
    "plt.show()"
   ]
  },
  {
   "cell_type": "code",
   "execution_count": 11,
   "id": "1a8a0ac1",
   "metadata": {},
   "outputs": [],
   "source": [
    "from sklearn.metrics import confusion_matrix\n",
    "\n",
    "def get_acc(_y_test, _y_pred):\n",
    "    return (np.sum(_y_test == _y_pred)).astype(float) / _y_test.shape[0]"
   ]
  },
  {
   "cell_type": "code",
   "execution_count": 12,
   "id": "e4ea98bf",
   "metadata": {},
   "outputs": [],
   "source": [
    "# NN Code as provided\n",
    "\n",
    "class NeuralNetMLP(object):\n",
    "\n",
    "    def __init__(self, n_hidden=30, epochs=100, eta=0.001, minibatch_size=1, seed=None):\n",
    "        self.random = np.random.RandomState(seed)  # used to randomize weights\n",
    "        self.n_hidden = n_hidden  # size of the hidden layer\n",
    "        self.epochs = epochs  # number of iterations\n",
    "        self.eta = eta  # learning rate\n",
    "        self.minibatch_size = minibatch_size  # size of training batch - 1 would not work\n",
    "        self.w_out, self.w_h = None, None\n",
    "    \n",
    "    @staticmethod\n",
    "    def onehot(_y, _n_classes):  # one hot encode the input class y\n",
    "        onehot = np.zeros((_n_classes, _y.shape[0]))\n",
    "        for idx, val in enumerate(_y.astype(int)):\n",
    "            onehot[val, idx] = 1.0\n",
    "        return onehot.T\n",
    "    \n",
    "    @staticmethod\n",
    "    def sigmoid(_z):  # Eq 1\n",
    "        return 1.0 / (1.0 + np.exp(-np.clip(_z, -250, 250)))\n",
    "\n",
    "    def _forward(self, _X):  # Eq 2\n",
    "        z_h = np.dot(_X, self.w_h)\n",
    "        a_h = self.sigmoid(z_h)\n",
    "        z_out = np.dot(a_h, self.w_out)\n",
    "        a_out = self.sigmoid(z_out)\n",
    "        return z_h, a_h, z_out, a_out\n",
    "\n",
    "    @staticmethod\n",
    "    def compute_cost(y_enc, output):  # Eq 4\n",
    "        term1 = -y_enc * (np.log(output))\n",
    "        term2 = (1.0-y_enc) * np.log(1.0-output)\n",
    "        cost = np.sum(term1 - term2)\n",
    "        return cost\n",
    "\n",
    "    def predict(self, _X):\n",
    "        z_h, a_h, z_out, a_out = self._forward(_X)\n",
    "        ypred = np.argmax(z_out, axis=1)\n",
    "        return ypred\n",
    "\n",
    "    def fit(self, _X_train, _y_train, _X_valid, _y_valid):\n",
    "        import sys\n",
    "        n_output = np.unique(_y_train).shape[0]  # number of class labels\n",
    "        n_features = _X_train.shape[1]\n",
    "        self.w_out = self.random.normal(loc=0.0, scale=0.1, size=(self.n_hidden, n_output))\n",
    "        self.w_h = self.random.normal(loc=0.0, scale=0.1, size=(n_features, self.n_hidden))\n",
    "        y_train_enc = self.onehot(_y_train, n_output)  # one-hot encode original y\n",
    "        for ei in range(self.epochs):  # Ideally must shuffle at every epoch\n",
    "            indices = np.arange(_X_train.shape[0])\n",
    "            for start_idx in range(0, indices.shape[0] - self.minibatch_size + 1, self.minibatch_size):\n",
    "                batch_idx = indices[start_idx:start_idx + self.minibatch_size]\n",
    "                \n",
    "                z_h, a_h, z_out, a_out = self._forward(_X_train[batch_idx])  # neural network model\n",
    "                \n",
    "                sigmoid_derivative_h = a_h * (1.0-a_h)  # Eq 3\n",
    "                delta_out = a_out - y_train_enc[batch_idx]  # Eq 5\n",
    "                delta_h = (np.dot(delta_out, self.w_out.T) * sigmoid_derivative_h)  # Eq 6\n",
    "                grad_w_out = np.dot(a_h.T, delta_out)  # Eq 7\n",
    "                grad_w_h = np.dot(_X_train[batch_idx].T, delta_h)  # Eq 8\n",
    "                self.w_out -= self.eta*grad_w_out  # Eq 9\n",
    "                self.w_h -= self.eta*grad_w_h  # Eq 9\n",
    "\n",
    "            # Evaluation after each epoch during training\n",
    "            z_h, a_h, z_out, a_out = self._forward(_X_train)\n",
    "            cost = self.compute_cost(y_enc=y_train_enc, output=a_out)\n",
    "            y_train_pred = self.predict(_X_train)  # monitoring training progress through reclassification\n",
    "            y_valid_pred = self.predict(_X_valid)  # monitoring training progress through validation\n",
    "            train_acc = ((np.sum(_y_train == y_train_pred)).astype(float) / _X_train.shape[0])\n",
    "            valid_acc = ((np.sum(_y_valid == y_valid_pred)).astype(float) / _X_valid.shape[0])\n",
    "            sys.stderr.write('\\r%d/%d | Cost: %.2f ' '| Train/Valid Acc.: %.2f%%/%.2f%% '%\n",
    "                (ei+1, self.epochs, cost, train_acc*100, valid_acc*100))\n",
    "            sys.stderr.flush()\n",
    "        return self"
   ]
  },
  {
   "cell_type": "code",
   "execution_count": 13,
   "id": "2374c0c2",
   "metadata": {},
   "outputs": [
    {
     "name": "stderr",
     "output_type": "stream",
     "text": [
      "300/300 | Cost: 15436.03 | Train/Valid Acc.: 96.21%/95.50% "
     ]
    }
   ],
   "source": [
    "# Define and fit the neural network\n",
    "nn = NeuralNetMLP(n_hidden=20, epochs=300, eta=0.0005, minibatch_size=100, seed=1)\n",
    "\n",
    "nn.fit(X_train_mnist[:55000], y_train_mnist[:55000], X_train_mnist[55000:], y_train_mnist[55000:]) ;"
   ]
  },
  {
   "cell_type": "code",
   "execution_count": 14,
   "id": "c17a6956",
   "metadata": {},
   "outputs": [
    {
     "name": "stdout",
     "output_type": "stream",
     "text": [
      "Accuracy= 94.12%\n",
      "[[ 959    0    1    0    4    1    9    1    5    0]\n",
      " [   0 1100    3    2    1    0    5    1   23    0]\n",
      " [  14    0  961   13    4    0    9   11   20    0]\n",
      " [   2    3   13  955    0   13    1    7   10    6]\n",
      " [   0    2    2    1  937    1    5    6    4   24]\n",
      " [   8    5    2   39    6  775   13    9   27    8]\n",
      " [  13    4    4    0    6   14  903    1   13    0]\n",
      " [   3    6   13    7    3    0    0  980    4   12]\n",
      " [   3    4    6   12    9    6    5   11  915    3]\n",
      " [   4    5    0   17   24    4    1   21    6  927]]\n"
     ]
    }
   ],
   "source": [
    "y_pred = nn.predict(X_test_mnist)\n",
    "\n",
    "print(f'Accuracy= {get_acc(y_test_mnist, y_pred)*100:.2f}%')\n",
    "print(confusion_matrix(y_test_mnist, y_pred))"
   ]
  },
  {
   "cell_type": "markdown",
   "id": "5844c7f0",
   "metadata": {},
   "source": [
    "### Creating a 2-layer NN\n",
    "\n",
    "I will do this by:  \n",
    "\n",
    "Initialize Additional Weights: Add an initialization for the second layer's weights.  \n",
    "Modify Forward Pass: Update the forward propagation method to include the second hidden layer.  \n",
    "Update Backpropagation: Adjust the backpropagation algorithm to account for the additional layer.  \n",
    "Additional Activation Functions: Add different activation functions for each layer.  "
   ]
  },
  {
   "cell_type": "code",
   "execution_count": 23,
   "id": "2e04a3fc",
   "metadata": {},
   "outputs": [],
   "source": [
    "# 2-layer Neural Network\n",
    "\n",
    "\n",
    "class NeuralNetMLP(object):\n",
    "\n",
    "    def __init__(self, n_hidden1=30, n_hidden2=30, epochs=100, eta=0.001, minibatch_size=1, seed=None):\n",
    "        self.random = np.random.RandomState(seed)\n",
    "        self.n_hidden1 = n_hidden1  # size of the first hidden layer\n",
    "        self.n_hidden2 = n_hidden2  # size of the second hidden layer\n",
    "        self.epochs = epochs\n",
    "        self.eta = eta\n",
    "        self.minibatch_size = minibatch_size\n",
    "        self.w_h1, self.w_h2, self.w_out = None, None, None  # Initialize additional weight matrix\n",
    "\n",
    "    \n",
    "    @staticmethod\n",
    "    def onehot(_y, _n_classes):  # one hot encode the input class y\n",
    "        onehot = np.zeros((_n_classes, _y.shape[0]))\n",
    "        for idx, val in enumerate(_y.astype(int)):\n",
    "            onehot[val, idx] = 1.0\n",
    "        return onehot.T\n",
    "    \n",
    "    @staticmethod\n",
    "    def sigmoid(_z):  # Eq 1\n",
    "        return 1.0 / (1.0 + np.exp(-np.clip(_z, -250, 250)))\n",
    "\n",
    "    def _forward(self, _X):\n",
    "        # First hidden layer\n",
    "        z_h1 = np.dot(_X, self.w_h1)\n",
    "        a_h1 = self.sigmoid(z_h1)\n",
    "\n",
    "        # Second hidden layer\n",
    "        z_h2 = np.dot(a_h1, self.w_h2)\n",
    "        a_h2 = self.sigmoid(z_h2)\n",
    "\n",
    "        # Output layer\n",
    "        z_out = np.dot(a_h2, self.w_out)\n",
    "        a_out = self.sigmoid(z_out)\n",
    "\n",
    "        return z_h1, a_h1, z_h2, a_h2, z_out, a_out\n",
    "\n",
    "    @staticmethod\n",
    "    def compute_cost(y_enc, output):  # Eq 4\n",
    "        term1 = -y_enc * (np.log(output))\n",
    "        term2 = (1.0-y_enc) * np.log(1.0-output)\n",
    "        cost = np.sum(term1 - term2)\n",
    "        return cost\n",
    "\n",
    "    def predict(self, _X):\n",
    "        z_h1, a_h1, z_h2, a_h2, z_out, a_out = self._forward(_X)\n",
    "        ypred = np.argmax(z_out, axis=1)\n",
    "        return ypred\n",
    "\n",
    "    def fit(self, _X_train, _y_train, _X_valid, _y_valid):\n",
    "        import sys\n",
    "        n_output = np.unique(_y_train).shape[0]  # number of class labels\n",
    "        n_features = _X_train.shape[1]\n",
    "        self.w_h1 = self.random.normal(loc=0.0, scale=0.1, size=(n_features, self.n_hidden1))\n",
    "        self.w_h2 = self.random.normal(loc=0.0, scale=0.1, size=(self.n_hidden1, self.n_hidden2))\n",
    "        self.w_out = self.random.normal(loc=0.0, scale=0.1, size=(self.n_hidden2, n_output))\n",
    "        y_train_enc = self.onehot(_y_train, n_output)  # one-hot encode original y\n",
    "        for ei in range(self.epochs):\n",
    "            indices = np.arange(_X_train.shape[0])\n",
    "\n",
    "            for start_idx in range(0, indices.shape[0] - self.minibatch_size + 1, self.minibatch_size):\n",
    "                    batch_idx = indices[start_idx:start_idx + self.minibatch_size]\n",
    "\n",
    "                    # Forward pass\n",
    "                    z_h1, a_h1, z_h2, a_h2, z_out, a_out = self._forward(_X_train[batch_idx])\n",
    "\n",
    "                    # Backpropagation\n",
    "                    # Step 1: Output layer error\n",
    "                    delta_out = a_out - y_train_enc[batch_idx]  \n",
    "\n",
    "                    # Step 2: Error for the second hidden layer\n",
    "                    sigmoid_derivative_h2 = a_h2 * (1.0 - a_h2)\n",
    "                    delta_h2 = np.dot(delta_out, self.w_out.T) * sigmoid_derivative_h2\n",
    "\n",
    "                    # Step 3: Error for the first hidden layer\n",
    "                    sigmoid_derivative_h1 = a_h1 * (1.0 - a_h1)\n",
    "                    delta_h1 = np.dot(delta_h2, self.w_h2.T) * sigmoid_derivative_h1\n",
    "\n",
    "                    # Step 4: Gradient computation\n",
    "                    grad_w_out = np.dot(a_h2.T, delta_out)\n",
    "                    grad_w_h2 = np.dot(a_h1.T, delta_h2)\n",
    "                    grad_w_h1 = np.dot(_X_train[batch_idx].T, delta_h1)\n",
    "\n",
    "                    # Update weights\n",
    "                    self.w_out -= self.eta * grad_w_out\n",
    "                    self.w_h2 -= self.eta * grad_w_h2\n",
    "                    self.w_h1 -= self.eta * grad_w_h1\n",
    "                    \n",
    "            # Evaluation after each epoch during training\n",
    "            z_h1, a_h1, z_h2, a_h2, z_out, a_out = self._forward(_X_train)\n",
    "            cost = self.compute_cost(y_enc=y_train_enc, output=a_out)\n",
    "            y_train_pred = self.predict(_X_train)  # monitoring training progress through reclassification\n",
    "            y_valid_pred = self.predict(_X_valid)  # monitoring training progress through validation\n",
    "            train_acc = ((np.sum(_y_train == y_train_pred)).astype(float) / _X_train.shape[0])\n",
    "            valid_acc = ((np.sum(_y_valid == y_valid_pred)).astype(float) / _X_valid.shape[0])\n",
    "            sys.stderr.write('\\r%d/%d | Cost: %.2f ' '| Train/Valid Acc.: %.2f%%/%.2f%% '%\n",
    "                (ei+1, self.epochs, cost, train_acc*100, valid_acc*100))\n",
    "            sys.stderr.flush()\n",
    "        return self"
   ]
  },
  {
   "cell_type": "code",
   "execution_count": 24,
   "id": "48a525dc",
   "metadata": {},
   "outputs": [
    {
     "name": "stderr",
     "output_type": "stream",
     "text": [
      "300/300 | Cost: 7923.15 | Train/Valid Acc.: 98.07%/95.78%  "
     ]
    }
   ],
   "source": [
    "# Define and fit the 2 layer neural network, increased by another 20 hidden units\n",
    "nn2 = NeuralNetMLP(n_hidden1=20, n_hidden2=20, epochs=300, eta=0.0005, minibatch_size=100, seed=1)\n",
    "\n",
    "nn2.fit(X_train_mnist[:55000], y_train_mnist[:55000], X_train_mnist[55000:], y_train_mnist[55000:]) ;"
   ]
  },
  {
   "cell_type": "code",
   "execution_count": 25,
   "id": "ca5c5eb0",
   "metadata": {},
   "outputs": [
    {
     "name": "stdout",
     "output_type": "stream",
     "text": [
      "Accuracy= 95.19%\n",
      "[[ 955    0    2    0    2    4    6    4    7    0]\n",
      " [   0 1111    3    2    1    1    2    4   11    0]\n",
      " [   5    1  969   14    5    0    4   14   19    1]\n",
      " [   3    1   11  957    0   15    0    7   11    5]\n",
      " [   2    0    3    0  939    0    9    2    5   22]\n",
      " [   5    2    1   21    2  826    5    7   15    8]\n",
      " [   5    3    3    0    6   11  926    0    4    0]\n",
      " [   0    3   13   10    4    0    0  976    3   19]\n",
      " [   6    2    3    6    8    8    8   10  916    7]\n",
      " [   2    3    0    9   19    6    3   12   11  944]]\n"
     ]
    }
   ],
   "source": [
    "y_pred = nn2.predict(X_test_mnist)\n",
    "\n",
    "print(f'Accuracy= {get_acc(y_test_mnist, y_pred)*100:.2f}%')\n",
    "print(confusion_matrix(y_test_mnist, y_pred))"
   ]
  },
  {
   "cell_type": "markdown",
   "id": "ef7595bd",
   "metadata": {},
   "source": [
    "### Results\n",
    "\n",
    "A second layer of another 30 hidden units reduced cost from 15436.03 to 7923.15 and increased training accuracy to 98.07% from 96.21% and validation accuracy to 95.78% from 95.50% - a modest increase. Presumably, increasing layers and nodes would improve performance even further, on the way to an overfit."
   ]
  },
  {
   "cell_type": "code",
   "execution_count": null,
   "id": "7d6f9c7f",
   "metadata": {},
   "outputs": [],
   "source": []
  }
 ],
 "metadata": {
  "kernelspec": {
   "display_name": "Python (en685621)",
   "language": "python",
   "name": "en685621"
  },
  "language_info": {
   "codemirror_mode": {
    "name": "ipython",
    "version": 3
   },
   "file_extension": ".py",
   "mimetype": "text/x-python",
   "name": "python",
   "nbconvert_exporter": "python",
   "pygments_lexer": "ipython3",
   "version": "3.9.1"
  }
 },
 "nbformat": 4,
 "nbformat_minor": 5
}
