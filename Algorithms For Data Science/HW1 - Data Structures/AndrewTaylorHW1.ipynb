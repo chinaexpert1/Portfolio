{
 "cells": [
  {
   "cell_type": "markdown",
   "metadata": {},
   "source": [
    "## <h3 align=\"center\"> __Johns Hopkins University__</h3>\n",
    "## <h3 align=\"center\">__Whiting School of Engineering__</h3>\n",
    "## <h3 align=\"center\">__Engineering for Professionals__</h3>\n",
    "## <h3 align=\"center\">__685.621 Algorithms for Data Science__</h3>\n",
    "## <h3 align=\"center\">__Homework 1__</h3>\n",
    "## <h3 align=\"center\">__Assigned at the start of Module 1,2__</h3>\n",
    "## <h3 align=\"center\">__Due at the end of Module 1,2__</h3><br>\n",
    "## <h3 align=\"center\">__Total Points 100/100__</h3>\n",
    "Class, the below is a standard set of instructions for each HW, in this assignment groups will be set up for collaboration. We will use this HW assignment as a dry run for HW2, HW3, HW4 and HW5 as well as discussions. <br><br>\n",
    "All members of the collaboration group are expected to participate fully in solving collaborative problems and sub-problems. Note, however, that each student is required to write up their solutions individually for all problems in their respective submission. Furthermore, to receive credit for a collaboration problem, each student in the collaboration group must actively and substantially contribute to the collaboration. This implies that no single student should post a complete solution to any problem at the beginning of the collaboration process."
   ]
  },
  {
   "cell_type": "markdown",
   "metadata": {},
   "source": [
    "# __1. Module 1 - Chapter 10, 11, 12 Parts a - d Note this is a Collaborative Problem__<br>\n",
    "100 Points Total<br><br>\n",
    "Python has four inbuilt data structures as follows:<br>\n",
    "1. Lists\n",
    "2. Dictionary\n",
    "3. Tuple\n",
    "4. Set <br>\n",
    "\n",
    "For each of these data structures use the Iris data set and provide the following:"
   ]
  },
  {
   "cell_type": "markdown",
   "metadata": {},
   "source": [
    "# (a) [25 points] Lists\n",
    "- Define\n",
    "- Create a list in Python using the first observation, all features and label from the Iris data set\n",
    "- Show the output with a print statement\n",
    "- Add the second observation of the Iris data set to your list\n",
    "- Show the output of your list with a print statement"
   ]
  },
  {
   "cell_type": "markdown",
   "metadata": {},
   "source": [
    "## Type definition here ##\n",
    "tutorialspoint.com provides a good blurb on the definition of a list here: https://www.tutorialspoint.com/How-do-we-define-lists-in-Python\n",
    "\n",
    "\"What is a List?\n",
    "In Python, a list is an ordered sequence that can hold several object types such as integer, character, or float. In other programming languages, a list is equivalent to an array. They are represented in square brackets [ ].\n",
    "\n",
    "Lists do not always have to be homogeneous, therefore they can store objects of many data types at the same time. Lists are thus the most useful tool. The list is a Python container data Structure that may hold several pieces of data at once. Lists are useful when we need to iterate over certain elements while still keeping hold of the elements.\""
   ]
  },
  {
   "cell_type": "code",
   "execution_count": 4,
   "metadata": {
    "pycharm": {
     "is_executing": true
    }
   },
   "outputs": [
    {
     "name": "stdout",
     "output_type": "stream",
     "text": [
      "   sepal_length  sepal_width  petal_length  petal_width species\n",
      "0           5.1          3.5           1.4          0.2  setosa\n"
     ]
    }
   ],
   "source": [
    "## # Import pandas\n",
    "import pandas as pd\n",
    "\n",
    "# Read in the CSV file\n",
    "df = pd.read_csv('iris.csv')\n",
    "\n",
    "# Print the first row of the DataFrame\n",
    "print(df.head(1))\n"
   ]
  },
  {
   "cell_type": "code",
   "execution_count": 5,
   "metadata": {},
   "outputs": [
    {
     "name": "stdout",
     "output_type": "stream",
     "text": [
      "[[5.1, 3.5, 1.4, 0.2, 'setosa']]\n",
      "[[5.1, 3.5, 1.4, 0.2, 'setosa'], [4.9, 3.0, 1.4, 0.2, 'setosa']]\n"
     ]
    }
   ],
   "source": [
    "## Type code here for the problem ##\n",
    "# get first row and create a list of lists for the observations, starting with the first\n",
    "list_of_obs = [df.iloc[0].tolist()]\n",
    "print(list_of_obs)\n",
    "second_row = df.iloc[1].tolist()\n",
    "list_of_obs.append(second_row)\n",
    "print(list_of_obs)\n"
   ]
  },
  {
   "cell_type": "markdown",
   "metadata": {},
   "source": [
    "# (b) [25 points] Dictionary\n",
    "- Define\n",
    "- Create a dictionary in Python using the classes of Setosa, Versicolor and Virginica, allow elements (2 observations per class) to be added\n",
    "- Show the output with a print statement\n",
    "- Add a third observation of the Iris data set for each class\n",
    "- Show the output of your with a print statement"
   ]
  },
  {
   "cell_type": "markdown",
   "metadata": {},
   "source": [
    "## Type definition here ##\n",
    "Real Python defines a dictionary as:\n",
    "\n",
    "\"Dictionaries are Python’s implementation of a data structure that is more generally known as an associative array. A dictionary consists of a collection of key-value pairs. Each key-value pair maps the key to its associated value.\"\n",
    "\n",
    "https://realpython.com/python-dicts/"
   ]
  },
  {
   "cell_type": "code",
   "execution_count": 11,
   "metadata": {},
   "outputs": [
    {
     "name": "stdout",
     "output_type": "stream",
     "text": [
      "{'setosa': [{'sepal_length': 5.1, 'sepal_width': 3.5, 'petal_length': 1.4, 'petal_width': 0.2, 'species': 'setosa'}, {'sepal_length': 4.9, 'sepal_width': 3.0, 'petal_length': 1.4, 'petal_width': 0.2, 'species': 'setosa'}], 'versicolor': [{'sepal_length': 7.0, 'sepal_width': 3.2, 'petal_length': 4.7, 'petal_width': 1.4, 'species': 'versicolor'}, {'sepal_length': 6.4, 'sepal_width': 3.2, 'petal_length': 4.5, 'petal_width': 1.5, 'species': 'versicolor'}], 'virginica': [{'sepal_length': 6.3, 'sepal_width': 3.3, 'petal_length': 6.0, 'petal_width': 2.5, 'species': 'virginica'}, {'sepal_length': 5.8, 'sepal_width': 2.7, 'petal_length': 5.1, 'petal_width': 1.9, 'species': 'virginica'}]}\n",
      "\n",
      "\n",
      "{'setosa': [{'sepal_length': 5.1, 'sepal_width': 3.5, 'petal_length': 1.4, 'petal_width': 0.2, 'species': 'setosa'}, {'sepal_length': 4.9, 'sepal_width': 3.0, 'petal_length': 1.4, 'petal_width': 0.2, 'species': 'setosa'}, {'sepal_length': 4.7, 'sepal_width': 3.2, 'petal_length': 1.3, 'petal_width': 0.2, 'species': 'setosa'}], 'versicolor': [{'sepal_length': 7.0, 'sepal_width': 3.2, 'petal_length': 4.7, 'petal_width': 1.4, 'species': 'versicolor'}, {'sepal_length': 6.4, 'sepal_width': 3.2, 'petal_length': 4.5, 'petal_width': 1.5, 'species': 'versicolor'}, {'sepal_length': 6.9, 'sepal_width': 3.1, 'petal_length': 4.9, 'petal_width': 1.5, 'species': 'versicolor'}], 'virginica': [{'sepal_length': 6.3, 'sepal_width': 3.3, 'petal_length': 6.0, 'petal_width': 2.5, 'species': 'virginica'}, {'sepal_length': 5.8, 'sepal_width': 2.7, 'petal_length': 5.1, 'petal_width': 1.9, 'species': 'virginica'}, {'sepal_length': 7.1, 'sepal_width': 3.0, 'petal_length': 5.9, 'petal_width': 2.1, 'species': 'virginica'}]}\n"
     ]
    }
   ],
   "source": [
    "## Type code here for the problem ##\n",
    "# group by species\n",
    "groupeddf = df.groupby('species')\n",
    "\n",
    "# Initialize an empty dictionary\n",
    "species_dict = {}\n",
    "\n",
    "# Iterate through each group\n",
    "for name, group in groupeddf:\n",
    "    # Select the first two records in each group and convert them to a list of dictionaries\n",
    "    species_dict[name] = group.head(2).to_dict('records')\n",
    "\n",
    "# Print the dictionary\n",
    "print(species_dict)\n",
    "print('\\n')\n",
    "\n",
    "# Iterate through each group to find the third records\n",
    "for name, group in groupeddf:\n",
    "    # Select the third record in the group and convert it to a dictionary\n",
    "    third_record = group.iloc[2].to_dict()\n",
    "        \n",
    "    # Add the third record to the corresponding key in the species_dict\n",
    "    species_dict[name].append(third_record)\n",
    "\n",
    "# Print the dictionary\n",
    "print(species_dict)\n"
   ]
  },
  {
   "cell_type": "markdown",
   "metadata": {},
   "source": [
    "# (c) [25 points] Tuple\n",
    "- Define\n",
    "- Create a tuple in Python using the classes of Setosa, Versicolor and Virginica, allow elements ( start with 2 observations and 2 features per class) to be added\n",
    "- Show the output with a print statement\n",
    "- Add a third observation and a third feature of the Iris data set for each class\n",
    "- Show the output of your with a print statement"
   ]
  },
  {
   "cell_type": "markdown",
   "metadata": {},
   "source": [
    "## Type definition here ##\n",
    "Tech Target gives this description of tuples:\n",
    "\n",
    "\" Tuples in programming are also ordered lists with a finite number of elements. In addition, the tuple's values can usually be duplicated and be of any type. A tuple's elements are also typically immutable -- something that cannot be changed. This immutability often translates to better performance than a data structure such as an array or list, whose values can be changed.\"\n",
    "\n",
    "https://www.techtarget.com/whatis/definition/tuple#:~:text=In%20mathematics%2C%20a%20tuple%20is,square%20brackets%20or%20angle%20brackets."
   ]
  },
  {
   "cell_type": "code",
   "execution_count": 14,
   "metadata": {},
   "outputs": [
    {
     "name": "stdout",
     "output_type": "stream",
     "text": [
      "('setosa', 5.1, 3.5, 4.9, 3.0)\n",
      "('versicolor', 7.0, 3.2, 6.4, 3.2)\n",
      "('virginica', 6.3, 3.3, 5.8, 2.7)\n",
      "\n",
      "\n",
      "setosa: (5.1, 3.5, 1.4, 4.9, 3.0, 1.4, 4.7, 3.2, 1.3)\n",
      "versicolor: (7.0, 3.2, 4.7, 6.4, 3.2, 4.5, 6.9, 3.1, 4.9)\n",
      "virginica: (6.3, 3.3, 6.0, 5.8, 2.7, 5.1, 7.1, 3.0, 5.9)\n"
     ]
    }
   ],
   "source": [
    "## Type code for the problem here ##\n",
    "\n",
    "for name, group in grouped:\n",
    "    # Select the first two records in the group\n",
    "    record1 = group.iloc[0]\n",
    "    record2 = group.iloc[1]\n",
    "        \n",
    "    # Create a 4-tuple from the first two features of the first two records\n",
    "    tuple = (name, record1['sepal_length'], record1['sepal_width'], record2['sepal_length'], record2['sepal_width'])\n",
    "        \n",
    "    # Print the tuple\n",
    "    print(tuple)\n",
    "\n",
    "print('\\n')\n",
    "\n",
    "# do it again with a third observation and a third feature\n",
    "\n",
    "# Iterate over each species group\n",
    "for name, group in grouped:\n",
    "    # Select the first three records in the group\n",
    "    record1 = group.iloc[0]\n",
    "    record2 = group.iloc[1]\n",
    "    record3 = group.iloc[2]\n",
    "\n",
    "    # Create a 9-tuple from the species name and the first three features of the first three records\n",
    "    tuple = (record1['sepal_length'], record1['sepal_width'], record1['petal_length'], \n",
    "            record2['sepal_length'], record2['sepal_width'], record2['petal_length'], \n",
    "            record3['sepal_length'], record3['sepal_width'], record3['petal_length'])\n",
    "\n",
    "    # Assign the tuple to a variable named after the species\n",
    "    if name == 'setosa':\n",
    "        setosa_tuple = tuple\n",
    "    elif name == 'versicolor':\n",
    "        versicolor_tuple = tuple\n",
    "    elif name == 'virginica':\n",
    "        virginica_tuple = tuple\n",
    "\n",
    "# Print the tuples\n",
    "print(f\"setosa: {setosa_tuple}\")\n",
    "print(f\"versicolor: {versicolor_tuple}\")\n",
    "print(f\"virginica: {virginica_tuple}\")\n"
   ]
  },
  {
   "cell_type": "markdown",
   "metadata": {},
   "source": [
    "# (d) [25 points] Set\n",
    "- Define\n",
    "- Create a set in Python using the first observation of the Setosa class allowing elements to be added\n",
    "- Show the output with a print statement\n",
    "- Add the second observation of the Setosa class\n",
    "- Show the output of the following operations with a print statement\n",
    "    * Difference\n",
    "    * Intersection\n",
    "    * Union"
   ]
  },
  {
   "cell_type": "markdown",
   "metadata": {},
   "source": [
    "## Type definition here\n",
    "Real Python says:\n",
    "\n",
    "\"Defining a Set\n",
    "Python’s built-in set type has the following characteristics:\n",
    "\n",
    "Sets are unordered.\n",
    "Set elements are unique. Duplicate elements are not allowed.\n",
    "A set itself may be modified, but the elements contained in the set must be of an immutable type.\"\n",
    "\n",
    "https://realpython.com/python-sets/\n",
    "\n",
    "I found this helpful because I forgot the elements have to be immutable."
   ]
  },
  {
   "cell_type": "code",
   "execution_count": 15,
   "metadata": {},
   "outputs": [
    {
     "name": "stdout",
     "output_type": "stream",
     "text": [
      "Initial set: {1.4, 3.5, 5.1}\n",
      "Updated set: {1.4, 3.5, 3.0, 5.1, 4.9}\n",
      "Difference: {3.5, 5.1}\n",
      "Intersection: {1.4, 3.0, 4.9}\n",
      "Union: {1.4, 3.5, 3.0, 5.1, 4.9}\n"
     ]
    }
   ],
   "source": [
    "## Type the code for the problem here ##\n",
    "# group the data by species\n",
    "grouped = df.groupby('species')\n",
    "\n",
    "# create a set with the first observation of the Setosa class\n",
    "setosa_set1 = set(grouped.get_group('setosa').iloc[0, :3])\n",
    "\n",
    "print(f\"Initial set: {setosa_set1}\")\n",
    "\n",
    "# add the second observation of the Setosa class to this set\n",
    "setosa_set2 = set(grouped.get_group('setosa').iloc[1, :3])\n",
    "setosa_set1.update(setosa_set2)\n",
    "\n",
    "print(f\"Updated set: {setosa_set1}\")\n",
    "\n",
    "# operations\n",
    "difference = setosa_set1.difference(setosa_set2)\n",
    "intersection = setosa_set1.intersection(setosa_set2)\n",
    "union = setosa_set1.union(setosa_set2)\n",
    "\n",
    "# print results\n",
    "print(f\"Difference: {difference}\")\n",
    "print(f\"Intersection: {intersection}\")\n",
    "print(f\"Union: {union}\")\n"
   ]
  },
  {
   "cell_type": "markdown",
   "metadata": {},
   "source": [
    "# References\n",
    "[1] Thomas H. Cormen, Charles E. Leiserson, Ronald L. Rivest, and Clifford Stein. Introduction to\n",
    "Algorithms, Third Edition. MIT Press and McGraw-Hill, 2009. ISBN-13: 978-0-262-03384-8<br><br>\n",
    "[2] Thomas H. Cormen. The clrscode and clrscode3e packages for LaTeX2e, Retrived Jan 2010,\n",
    "http://www.cs.dartmouth.edu/ thc/clrscode/<br><br>\n",
    "[3] simpleilearn, Top 90+ Data Science Interview Questions and Answers: Basic to Technical,\n",
    "https://www.simplilearn.com/tutorials/data-science-tutorial/data-science-interview-questions<br><br>\n",
    "[4] simpleilearn, 22 Artificial Intelligence Interview Questions to Prepare,\n",
    "https://www.simplilearn.com/artificial-intelligence-ai-interview-questions-and-answers-article<br><br>\n",
    "[5] Python, Data Structures, https://docs.python.org/3/tutorial/datastructures.html"
   ]
  }
 ],
 "metadata": {
  "interpreter": {
   "hash": "aee8b7b246df8f9039afb4144a1f6fd8d2ca17a180786b69acc140d282b71a49"
  },
  "kernelspec": {
   "display_name": "Python (en685621)",
   "language": "python",
   "name": "en685621"
  },
  "language_info": {
   "codemirror_mode": {
    "name": "ipython",
    "version": 3
   },
   "file_extension": ".py",
   "mimetype": "text/x-python",
   "name": "python",
   "nbconvert_exporter": "python",
   "pygments_lexer": "ipython3",
   "version": "3.9.1"
  }
 },
 "nbformat": 4,
 "nbformat_minor": 2
}
