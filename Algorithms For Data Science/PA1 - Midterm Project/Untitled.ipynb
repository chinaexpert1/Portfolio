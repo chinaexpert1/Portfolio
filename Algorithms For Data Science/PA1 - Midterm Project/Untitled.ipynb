{
 "cells": [
  {
   "cell_type": "markdown",
   "id": "39cf261e",
   "metadata": {},
   "source": [
    "### Andrew Taylor\n",
    "### atayl136"
   ]
  },
  {
   "cell_type": "markdown",
   "id": "3e560035",
   "metadata": {},
   "source": [
    "# JHU Whiting School EN685.621.82\n",
    "# Algorithms for Data Science PA 1"
   ]
  },
  {
   "cell_type": "markdown",
   "id": "cf58cb69",
   "metadata": {},
   "source": []
  }
 ],
 "metadata": {
  "kernelspec": {
   "display_name": "Python (en685621)",
   "language": "python",
   "name": "en685621"
  },
  "language_info": {
   "codemirror_mode": {
    "name": "ipython",
    "version": 3
   },
   "file_extension": ".py",
   "mimetype": "text/x-python",
   "name": "python",
   "nbconvert_exporter": "python",
   "pygments_lexer": "ipython3",
   "version": "3.9.1"
  }
 },
 "nbformat": 4,
 "nbformat_minor": 5
}
