{
 "cells": [
  {
   "cell_type": "markdown",
   "metadata": {},
   "source": [
    "## <h3 align=\"center\"> __Johns Hopkins University__</h3>\n",
    "## <h3 align=\"center\">__Whiting School of Engineering__</h3>\n",
    "## <h3 align=\"center\">__Engineering for Professionals__</h3>\n",
    "## <h3 align=\"center\">__685.621 Algorithms for Data Science__</h3>\n",
    "## <h3 align=\"center\">__Homework 2__</h3>\n",
    "## <h3 align=\"center\">__Assigned at the start of Module 3__</h3>\n",
    "## <h3 align=\"center\">__Due at the end of Module 5__</h3><br>\n",
    "## <h3 align=\"center\">__Total Points 100/100__</h3>\n",
    "Class, the below is a standard set of instructions for each HW, in this assignment groups will be set up for collaboration.<br><br>\n",
    "Make sure your group starts one thread for the collaborative problems. You are required to participate in the collaborative problem and subproblem separately. Please do not directly post a complete\n",
    "solution, the goal is for the group to develop a solution after everyone has participated. Please ensure\n",
    "you have a write-up with solutions to each problem and subproblems, you are also required to submit\n",
    "code that will be compiled when grading the assignment. In each of the problems you are allowed to\n",
    "use built-in functions."
   ]
  },
  {
   "cell_type": "markdown",
   "metadata": {},
   "source": [
    "# __1. Module 3 Note this is not a Collaborative Problem__<br>\n",
    "*30 Points Total*<br><br>\n",
    "In this problem use the seaborn Python package to create a scatter plot matrix of the Iris data set.\n",
    "1. [10 points] Describe the diagonal curves.\n",
    "2. [10 points] Does any feature separate the three classes? If so, which feature? If not, which is the closest?\n",
    "3. [10 points] Is there any combination of features that can separate the three classes? If so, which features? If not, which are the closest?\n",
    "\n",
    "Reference: https://seaborn.pydata.org/examples/scatterplot_matrix.html"
   ]
  },
  {
   "cell_type": "code",
   "execution_count": 1,
   "metadata": {},
   "outputs": [],
   "source": [
    "## import libraries\n",
    "\n",
    "\n",
    "## import iris dataset\n"
   ]
  },
  {
   "cell_type": "code",
   "execution_count": 2,
   "metadata": {},
   "outputs": [],
   "source": [
    "## Type code here for the part 1 ##\n"
   ]
  },
  {
   "cell_type": "markdown",
   "metadata": {},
   "source": [
    "## Type response for part 1 here"
   ]
  },
  {
   "cell_type": "markdown",
   "metadata": {},
   "source": [
    "## Type response for part 2 here ##"
   ]
  },
  {
   "cell_type": "markdown",
   "metadata": {},
   "source": [
    "## Type response for part 3 here ##"
   ]
  },
  {
   "cell_type": "markdown",
   "metadata": {},
   "source": [
    "# __2. Module 4 Note this is a Collaborative Problem__<br>\n",
    "*30 Points Total*<br><br>\n",
    "In this problem, implement code to use the Mahalanobis Distance on the Iris dataset. \n",
    "1. [10 points] Using all four features, calculate the 50 distances for the Setosa class.\n",
    "2. [5 points] Calculate the range (min and max) of the 50 Mahalanobis distance values. What is the delta between the min and the max?\n",
    "3. [10 points] If you remove the observation with the largest distance, do the remaining distances appear to be closer together? After removing the observation with the largest distance, recalculate the ranges with the updated mean and covariance. Does removing the observation with the largest Mahalanobis distance provide a smaller range between the min and max? \n",
    "4. [5 points] Given your findings, describe what was accomplished following the method above this data point from the dataset."
   ]
  },
  {
   "cell_type": "code",
   "execution_count": 3,
   "metadata": {},
   "outputs": [],
   "source": [
    "## Type code here for part 1 ##\n"
   ]
  },
  {
   "cell_type": "code",
   "execution_count": 4,
   "metadata": {},
   "outputs": [],
   "source": [
    "## Type code here for part 2 ##\n"
   ]
  },
  {
   "cell_type": "code",
   "execution_count": 5,
   "metadata": {},
   "outputs": [],
   "source": [
    "## Type code here for part 3 ##\n"
   ]
  },
  {
   "attachments": {},
   "cell_type": "markdown",
   "metadata": {},
   "source": [
    "## Type analysis for part 3 here ##\n"
   ]
  },
  {
   "attachments": {},
   "cell_type": "markdown",
   "metadata": {},
   "source": [
    "## Type response for part 4 here ##\n"
   ]
  },
  {
   "cell_type": "markdown",
   "metadata": {},
   "source": [
    "# __3. Module 5 Note this is a Collaborative Problem__<br>\n",
    "*40 Points Total*<br><br>\n",
    "\n",
    "In this problem we would like to familiarize you with a basic example of a goal based agent. A game like rock paper scissors is typically played between two players and has a clearly defined set of rules for a win, draw, and loss. Since it is impossible (acknowledging that studies have been preformed to use behavior to attempt a prediction - but we will ignore that for the purpose of this exercise) to predict an opponent's move, we will assume that the user will input a value, the computer will see this input then choose from a set of rules the correct response play, acting as a simple goal based agent.<br>\n",
    "\n",
    "Instructions on how to play: https://www.wikihow.com/Play-Rock,-Paper,-Scissors<br>\n",
    "\n",
    "For this problem, you will fill in the rules (in if-then-else format) to the function in the cell below. The proceeding cell should then be run to play a game with the computer in which the computer agent should win every time."
   ]
  },
  {
   "cell_type": "code",
   "execution_count": 6,
   "metadata": {},
   "outputs": [],
   "source": [
    "## Set Rock = 1, Paper = 2, Scissors = 3\n",
    "## The funtion should read in the player_move and return the appropriate agent_play that will win the round\n",
    "import random\n",
    "def goal_based_agent(player_move=None):\n",
    "\n",
    "    agent_play = random.randint(1,3)\n",
    "\n",
    "\n",
    "    return agent_play"
   ]
  },
  {
   "cell_type": "code",
   "execution_count": null,
   "metadata": {},
   "outputs": [],
   "source": [
    "## Set Rock = 1, Paper = 2, Scissors = 3\n",
    "## The program will receive player input for the number of rounds to be played: suggested to use 5 so that you may test your implementation\n",
    "import sys\n",
    "\n",
    "num_rounds = int(input(\"Enter number of rounds to be played: \"))\n",
    "curr_round = 1\n",
    "win_counter = 0 \n",
    "while curr_round <= num_rounds:\n",
    "    print(\"Enter choice \\n 1 for Rock, \\n 2 for paper, and \\n 3 for scissor \\n\")\n",
    " \n",
    "    # take the input from user\n",
    "    player_move = int(input(\"User turn: \"))\n",
    "    \n",
    "    if player_move == 1 or player_move == 2 or player_move == 3:\n",
    "        if player_move == 1:\n",
    "            choice_name = 'Rock'\n",
    "        elif player_move == 2:\n",
    "            choice_name = 'Paper'\n",
    "        elif player_move == 3:\n",
    "            choice_name = 'Scissor'\n",
    "        \n",
    "        print(\"Player move is: \", choice_name)\n",
    "\n",
    "        AI_move = goal_based_agent(player_move) ## this is where your function is called, player_move which is an input is sent to your agent and returns the correct AI move\n",
    "\n",
    "        if AI_move == 1:\n",
    "            AI_play = 'Rock'\n",
    "        elif AI_move == 2:\n",
    "            AI_play = 'Paper'\n",
    "        elif AI_move == 3:\n",
    "            AI_play = 'Scissor'\n",
    "\n",
    "        print(\"AI move is: \", AI_play)\n",
    "\n",
    "        win = None\n",
    "        if player_move == 1 and AI_move == 2:\n",
    "            win = 1\n",
    "        elif player_move == 2 and AI_move == 3:\n",
    "            win = 1\n",
    "        elif player_move == 3 and AI_move == 1:\n",
    "            win = 1\n",
    "        else:\n",
    "            win = 0\n",
    "\n",
    "        if win == 1:\n",
    "            win_counter = win_counter + 1\n",
    "            print(\"AI wins this round!\")\n",
    "        else:\n",
    "            print(\"AI lost this round!\")\n",
    "\n",
    "        print(\"Round Number: \", curr_round)\n",
    "\n",
    "        curr_round = curr_round + 1\n",
    "\n",
    "    else:\n",
    "        print(\"Invalid player input, GAME OVER\")\n",
    "        sys.exit(1)\n",
    "\n",
    "print(\"\\n\\nGame Concluded\")\n",
    "print(\"Round Number: \", curr_round - 1)\n",
    "print(\"Number of Wins: \", win_counter)\n",
    "print(\"Number of Losses: \", curr_round - win_counter - 1)\n",
    "\n",
    "if curr_round - win_counter == 1:\n",
    "    print('Well done!')\n",
    "else:\n",
    "    print('You need to fix your goal based agnet!')\n",
    "       \n",
    "\n",
    "\n"
   ]
  },
  {
   "cell_type": "markdown",
   "metadata": {},
   "source": [
    "# References\n",
    "[1] Bishop, Christopher M., Pattern Recognition and Machine Learning, Springer, 2006,<br><br>\n",
    "[2] Dillon, and Goldstein, M.. Multivariate Analysis Methods and Applications, John Wiley,\n",
    "1984 https://www.microsoft.com/en-us/research/uploads/prod/2006/01/Bishop-Pattern-Recognition-\n",
    "and-Machine-Learning-2006.pdf<br><br>\n",
    "[3] Duin, Robert P.W., Tax, David and Pekalska, Elzbieta, PRTools, http://prtools.tudelft.nl/<br><br>\n",
    "[4] Fisher, R.A., The use of Multiple Measurements in Taxonomic Problems, Annals of Human\n",
    "Genetics, Vol. 7, Issue 2, pp. 179-188, 1936<br><br>\n",
    "[5] Hotelling, H., Analysis of a complex of statistical variables into principal components, Jour-\n",
    "nal of Educational Psychology, Number 24, pp. 417–441, 1933<br><br>\n",
    "[6] Rao, K. P. and Yip, P., Discrete Cosine Transform Algorithms, Advantages, Applications,\n",
    "San Diego, CA: Academic Press, Inc., 1990"
   ]
  }
 ],
 "metadata": {
  "interpreter": {
   "hash": "aee8b7b246df8f9039afb4144a1f6fd8d2ca17a180786b69acc140d282b71a49"
  },
  "kernelspec": {
   "display_name": "Python 3 (ipykernel)",
   "language": "python",
   "name": "python3"
  },
  "language_info": {
   "codemirror_mode": {
    "name": "ipython",
    "version": 3
   },
   "file_extension": ".py",
   "mimetype": "text/x-python",
   "name": "python",
   "nbconvert_exporter": "python",
   "pygments_lexer": "ipython3",
   "version": "3.8.16"
  }
 },
 "nbformat": 4,
 "nbformat_minor": 2
}
